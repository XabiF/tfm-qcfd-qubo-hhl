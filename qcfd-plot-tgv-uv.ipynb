{
 "cells": [
  {
   "cell_type": "code",
   "execution_count": 3,
   "id": "ccdfcb32",
   "metadata": {},
   "outputs": [],
   "source": [
    "# Values manually copied from simulation logs (maxu and maxv)\n",
    "\n",
    "# HHL\n",
    "\"\"\"us = [\n",
    "    -1.2742366974691504,\n",
    "    -1.1619859042945304,\n",
    "    -1.0660632131336445,\n",
    "    -0.9823412070100268,\n",
    "    -0.9079271993426851,\n",
    "    -0.8412669865523993,\n",
    "    -0.7811817762156157,\n",
    "    -0.7267457988690783,\n",
    "    -0.6772161254380709,\n",
    "    -0.6319852500755337,\n",
    "]\n",
    "vs = [\n",
    "    1.2727625819104373,\n",
    "    1.1628584106833941,\n",
    "    1.0681522183601337,\n",
    "    0.9850155375586643,\n",
    "    0.9106973945733076,\n",
    "    0.8438660433904211,\n",
    "    0.7834820807881134,\n",
    "    0.7287023497787513,\n",
    "    0.6788302168542623,\n",
    "    0.6332821604222649,\n",
    "]\"\"\"\n",
    "\n",
    "# QUBO\n",
    "us = [\n",
    "    -1.1327034707591237,\n",
    "    -1.05502246934856,\n",
    "    -1.0263541956536986,\n",
    "    -0.9906702076875199,\n",
    "    -0.9531070003432478,\n",
    "]\n",
    "vs = [\n",
    "    1.1327034707591237,\n",
    "    1.0337897462413497,\n",
    "    0.99487317508248,\n",
    "    0.9771068579555158,\n",
    "    0.9646632714372896,\n",
    "]"
   ]
  },
  {
   "cell_type": "code",
   "execution_count": null,
   "id": "f26c6c6e",
   "metadata": {},
   "outputs": [
    {
     "data": {
      "image/png": "[encoded data removed]",
      "text/plain": [
       "<Figure size 600x400 with 1 Axes>"
      ]
     },
     "metadata": {},
     "output_type": "display_data"
    },
    {
     "name": "stdout",
     "output_type": "stream",
     "text": [
      "Linear Fit:   y = 0.0424x + -1.1586\n",
      "Quadratic Fit: y = -0.0052x² + 0.0737x + -1.1952\n",
      "Cubic Fit:    y = 0.0042x³ + -0.0434x² + 0.1738x + -1.2665\n",
      "Quartic Fit:  y = -0.0025x⁴ + 0.0348x³ + -0.1697x² + 0.3813x + -1.3766\n",
      "Quintic Fit:  y = -0.0004x⁵ + 0.0032x⁴ + 0.0020x³ + -0.0829x² + 0.2756x + -1.3303\n",
      "Exponential Fit (x scaled):\n",
      "y = -1.1658 * e^(-0.2067 * (x / max(x)))\n",
      "Linear    : R² = 0.9627, MSE = 0.0001\n",
      "Quadratic : R² = 0.9832, MSE = 0.0001\n",
      "Cubic     : R² = 0.9971, MSE = 0.0000\n",
      "Quartic   : R² = 1.0000, MSE = 0.0000\n",
      "Quintic   : R² = 1.0000, MSE = 0.0000\n",
      "Exponential: R² = 0.9691, MSE = 0.0001\n",
      "Linear Fit:   y = -0.0393x + 1.1385\n",
      "Quadratic Fit: y = 0.0139x² + -0.1225x + 1.2355\n",
      "Cubic Fit:    y = -0.0046x³ + 0.0549x² + -0.2300x + 1.3120\n",
      "Quartic Fit:  y = 0.0010x⁴ + -0.0161x³ + 0.1024x² + -0.3081x + 1.3535\n",
      "Quintic Fit:  y = 0.0002x⁵ + -0.0020x⁴ + 0.0007x³ + 0.0579x² + -0.2539x + 1.3298\n",
      "Exponential Fit (x scaled):\n",
      "y = 1.1463 * e^(-0.1961 * (x / max(x)))\n",
      "Linear    : R² = 0.8373, MSE = 0.0006\n",
      "Quadratic : R² = 0.9834, MSE = 0.0001\n",
      "Cubic     : R² = 0.9996, MSE = 0.0000\n",
      "Quartic   : R² = 1.0000, MSE = 0.0000\n",
      "Quintic   : R² = 1.0000, MSE = 0.0000\n",
      "Exponential: R² = 0.8532, MSE = 0.0005\n",
      "Expected coef (Tf=5): 0.3947841760435744\n"
     ]
    },
    {
     "name": "stderr",
     "output_type": "stream",
     "text": [
      "c:\\Users\\xfernandez\\OneDrive - AYESA\\Escritorio\\TFM\\QCFD-new\\datafit.py:38: RankWarning: Polyfit may be poorly conditioned\n",
      "  quintic_params = np.polyfit(x, y, 5)\n",
      "c:\\Users\\xfernandez\\OneDrive - AYESA\\Escritorio\\TFM\\QCFD-new\\datafit.py:38: RankWarning: Polyfit may be poorly conditioned\n",
      "  quintic_params = np.polyfit(x, y, 5)\n"
     ]
    }
   ],
   "source": [
    "import matplotlib.pyplot as plt\n",
    "from datafit import fit_log\n",
    "import numpy as np\n",
    "\n",
    "# Change this if simulation changes as well\n",
    "NU = 0.1\n",
    "DT = 0.01\n",
    "R = 2\n",
    "L = 1.0\n",
    "\n",
    "def plot_u(ts, us, vs):\n",
    "    plt.figure(figsize=(6, 4))\n",
    "    plt.plot(ts, us, marker='o', linestyle='-', label=\"$u_{44}$\")\n",
    "    plt.plot(ts, vs, marker='o', linestyle='-', label=\"$v_{44}$\")\n",
    "    plt.xlabel('Time-step')\n",
    "    plt.ylabel('$u_{44},v_{44}$')\n",
    "    plt.grid(True)\n",
    "    plt.legend()\n",
    "    plt.tight_layout()\n",
    "    plt.show()\n",
    "    fit_log(ts, us)\n",
    "    fit_log(ts, vs)\n",
    "\n",
    "    # Theoretical\n",
    "    tf = max(ts)\n",
    "    coef = 2*tf*DT*NU*(R*np.pi/L)**2\n",
    "    print(f\"Expected coef (Tf={tf}): {coef}\")\n",
    "\n",
    "assert len(us) == len(vs)\n",
    "n = len(us)\n",
    "ts = list(range(1, n+1))\n",
    "\n",
    "plot_u(ts, us, vs)"
   ]
  }
 ],
 "metadata": {
  "kernelspec": {
   "display_name": "Python 3",
   "language": "python",
   "name": "python3"
  },
  "language_info": {
   "codemirror_mode": {
    "name": "ipython",
    "version": 3
   },
   "file_extension": ".py",
   "mimetype": "text/x-python",
   "name": "python",
   "nbconvert_exporter": "python",
   "pygments_lexer": "ipython3",
   "version": "3.13.7"
  }
 },
 "nbformat": 4,
 "nbformat_minor": 5
}
