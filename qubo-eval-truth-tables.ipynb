{
 "cells": [
  {
   "cell_type": "code",
   "execution_count": 4,
   "id": "3e5759e3",
   "metadata": {},
   "outputs": [],
   "source": [
    "import sympy as sp\n",
    "from sympy.abc import x, y, z, t\n",
    "from sympy.logic.boolalg import BooleanFunction\n",
    "from itertools import product\n",
    "\n",
    "def truth_table(predicate: BooleanFunction, variables):\n",
    "    \"\"\"\n",
    "    Generate and print a truth table for the given predicate and variables.\n",
    "    \"\"\"\n",
    "    variables = list(variables)\n",
    "    n = len(variables)\n",
    "\n",
    "    # Print header\n",
    "    header = [str(var) for var in variables] + [str(predicate)]\n",
    "    print(\" | \".join(header))\n",
    "    print(\"-\" * (4 * (n + 1)))\n",
    "\n",
    "    # Loop through all binary combinations\n",
    "    for values in product([0, 1], repeat=n):\n",
    "        assignment = dict(zip(variables, values))\n",
    "        result = predicate.subs(assignment)\n",
    "        row = list(values) + [int(bool(result))]\n",
    "        print(\" | \".join(str(val) for val in row))\n",
    "\n"
   ]
  },
  {
   "cell_type": "code",
   "execution_count": null,
   "id": "c6c8f7e2",
   "metadata": {},
   "outputs": [
    {
     "name": "stdout",
     "output_type": "stream",
     "text": [
      "x | y | z | t | x*y*z\n",
      "--------------------\n",
      "0 | 0 | 0 | 0 | 0\n",
      "0 | 0 | 0 | 1 | 0\n",
      "0 | 0 | 1 | 0 | 0\n",
      "0 | 0 | 1 | 1 | 0\n",
      "0 | 1 | 0 | 0 | 0\n",
      "0 | 1 | 0 | 1 | 0\n",
      "0 | 1 | 1 | 0 | 0\n",
      "0 | 1 | 1 | 1 | 0\n",
      "1 | 0 | 0 | 0 | 0\n",
      "1 | 0 | 0 | 1 | 0\n",
      "1 | 0 | 1 | 0 | 0\n",
      "1 | 0 | 1 | 1 | 0\n",
      "1 | 1 | 0 | 0 | 0\n",
      "1 | 1 | 0 | 1 | 0\n",
      "1 | 1 | 1 | 0 | 1\n",
      "1 | 1 | 1 | 1 | 1\n"
     ]
    }
   ],
   "source": [
    "x,y,z,t = sp.var(\"x y z t\")\n",
    "truth_table(x*y*z, [x,y,z,t])"
   ]
  },
  {
   "cell_type": "code",
   "execution_count": 6,
   "id": "2db06232",
   "metadata": {},
   "outputs": [
    {
     "name": "stdout",
     "output_type": "stream",
     "text": [
      "x | y | z | t | -4*t*x - 4*t*y + t*z + 6*t + 2*x*y\n",
      "--------------------\n",
      "0 | 0 | 0 | 0 | 0\n",
      "0 | 0 | 0 | 1 | 1\n",
      "0 | 0 | 1 | 0 | 0\n",
      "0 | 0 | 1 | 1 | 1\n",
      "0 | 1 | 0 | 0 | 0\n",
      "0 | 1 | 0 | 1 | 1\n",
      "0 | 1 | 1 | 0 | 0\n",
      "0 | 1 | 1 | 1 | 1\n",
      "1 | 0 | 0 | 0 | 0\n",
      "1 | 0 | 0 | 1 | 1\n",
      "1 | 0 | 1 | 0 | 0\n",
      "1 | 0 | 1 | 1 | 1\n",
      "1 | 1 | 0 | 0 | 1\n",
      "1 | 1 | 0 | 1 | 0\n",
      "1 | 1 | 1 | 0 | 1\n",
      "1 | 1 | 1 | 1 | 1\n"
     ]
    }
   ],
   "source": [
    "x,y,z,t = sp.var(\"x y z t\")\n",
    "truth_table(t*z+2*x*y-4*x*t-4*y*t+6*t, [x,y,z,t])"
   ]
  },
  {
   "cell_type": "code",
   "execution_count": null,
   "id": "a1a6c113",
   "metadata": {},
   "outputs": [
    {
     "name": "stdout",
     "output_type": "stream",
     "text": [
      "x | y | z | x*y - 2*x*z - 2*y*z + 3*z\n",
      "----------------\n",
      "0 | 0 | 0 | 0\n",
      "0 | 0 | 1 | 1\n",
      "0 | 1 | 0 | 0\n",
      "0 | 1 | 1 | 1\n",
      "1 | 0 | 0 | 0\n",
      "1 | 0 | 1 | 1\n",
      "1 | 1 | 0 | 1\n",
      "1 | 1 | 1 | 0\n"
     ]
    },
    {
     "ename": "",
     "evalue": "",
     "output_type": "error",
     "traceback": [
      "\u001b[1;31mEl kernel se bloqueó al ejecutar código en la celda actual o en una celda anterior. \n",
      "\u001b[1;31mRevise el código de las celdas para identificar una posible causa del error. \n",
      "\u001b[1;31mHaga clic <a href='https://aka.ms/vscodeJupyterKernelCrash'>aquí</a> para obtener más información. \n",
      "\u001b[1;31mVea Jupyter <a href='command:jupyter.viewOutput'>log</a> para obtener más detalles."
     ]
    }
   ],
   "source": [
    "x,y,z = sp.var(\"x y z\")\n",
    "truth_table(x*y-2*x*z-2*y*z+3*z, [x,y,z])"
   ]
  }
 ],
 "metadata": {
  "kernelspec": {
   "display_name": "Python 3",
   "language": "python",
   "name": "python3"
  },
  "language_info": {
   "codemirror_mode": {
    "name": "ipython",
    "version": 3
   },
   "file_extension": ".py",
   "mimetype": "text/x-python",
   "name": "python",
   "nbconvert_exporter": "python",
   "pygments_lexer": "ipython3",
   "version": "3.13.5"
  }
 },
 "nbformat": 4,
 "nbformat_minor": 5
}
