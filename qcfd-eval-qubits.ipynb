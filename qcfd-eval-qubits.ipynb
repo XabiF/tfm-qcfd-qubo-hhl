{
 "cells": [
  {
   "cell_type": "code",
   "execution_count": 1,
   "id": "6b8f1169",
   "metadata": {},
   "outputs": [],
   "source": [
    "import numpy as np"
   ]
  },
  {
   "cell_type": "code",
   "execution_count": 2,
   "id": "9874d16a",
   "metadata": {},
   "outputs": [],
   "source": [
    "def R(G):\n",
    "    b = 2\n",
    "    dpsi = 1e-2\n",
    "    alpha = 2.5\n",
    "    nu = 0.1\n",
    "    kappa = 4*dpsi*(b-1)\n",
    "    N = np.sqrt(G)\n",
    "    return int(np.log2(kappa/nu) + (alpha/2)*np.log2(N) + np.log2(N-1))\n",
    "\n",
    "def bits(n):\n",
    "    return int(np.ceil(np.log2(n)))\n",
    "\n",
    "def n_qubo_seg(G):\n",
    "    return R(G)*G\n",
    "\n",
    "def n_qubo_cpl(G):\n",
    "    return 2*R(2*G)*G\n",
    "\n",
    "def n_hhl_seg(G):\n",
    "    return bits(G)+1\n",
    "\n",
    "def n_hhl_cpl(G):\n",
    "    return bits(2*G)+1\n",
    "\n",
    "def n_qubo_or(G):\n",
    "    return n_qubo_cpl(G)*(n_qubo_cpl(G)+1)//2"
   ]
  },
  {
   "cell_type": "code",
   "execution_count": 3,
   "id": "70cff8ba",
   "metadata": {},
   "outputs": [
    {
     "name": "stdout",
     "output_type": "stream",
     "text": [
      "************ N=5 *****************\n",
      "QUBO-seg: 9\n",
      "HHL-seg: 5\n",
      "QUBO-OR: 666\n",
      "************ N=10 *****************\n",
      "QUBO-seg: 320\n",
      "HHL-seg: 7\n",
      "QUBO-OR: 295296\n",
      "************ N=15 *****************\n",
      "QUBO-seg: 1014\n",
      "HHL-seg: 9\n",
      "QUBO-OR: 3657160\n",
      "************ N=20 *****************\n",
      "QUBO-seg: 2268\n",
      "HHL-seg: 10\n",
      "QUBO-OR: 17009028\n",
      "************ N=50 *****************\n",
      "QUBO-seg: 25344\n",
      "HHL-seg: 13\n",
      "QUBO-OR: 1528851456\n",
      "************ N=100 *****************\n",
      "QUBO-seg: 124852\n",
      "HHL-seg: 15\n",
      "QUBO-OR: 36156966328\n",
      "************ N=150 *****************\n",
      "QUBO-seg: 306656\n",
      "HHL-seg: 16\n",
      "QUBO-OR: 245650381056\n"
     ]
    }
   ],
   "source": [
    "def G(N):\n",
    "    return (N-2)**2\n",
    "\n",
    "for N in [5, 10, 15, 20, 50, 100, 150]:\n",
    "    print(f\"************ N={N} *****************\")\n",
    "    print(f\"QUBO-seg: {n_qubo_seg(G(N))}\")\n",
    "    # print(f\"QUBO-coupled: {n_qubo_cpl(G(N))}\")\n",
    "    print(f\"HHL-seg: {n_hhl_seg(G(N))}\")\n",
    "    # print(f\"HHL-coupled: {n_hhl_cpl(G(N))}\")\n",
    "    print(f\"QUBO-OR: {n_qubo_or(G(N))}\")"
   ]
  }
 ],
 "metadata": {
  "kernelspec": {
   "display_name": "Python 3",
   "language": "python",
   "name": "python3"
  },
  "language_info": {
   "codemirror_mode": {
    "name": "ipython",
    "version": 3
   },
   "file_extension": ".py",
   "mimetype": "text/x-python",
   "name": "python",
   "nbconvert_exporter": "python",
   "pygments_lexer": "ipython3",
   "version": "3.13.7"
  }
 },
 "nbformat": 4,
 "nbformat_minor": 5
}
