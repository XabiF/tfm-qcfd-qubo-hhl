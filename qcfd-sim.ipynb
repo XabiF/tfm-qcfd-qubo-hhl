{
 "cells": [
  {
   "cell_type": "code",
   "execution_count": 1,
   "metadata": {},
   "outputs": [],
   "source": [
    "# reload modules if changed\n",
    "%load_ext autoreload\n",
    "%autoreload 2"
   ]
  },
  {
   "cell_type": "code",
   "execution_count": 2,
   "metadata": {},
   "outputs": [
    {
     "name": "stderr",
     "output_type": "stream",
     "text": [
      "C:\\Users\\xfernandez\\AppData\\Local\\Packages\\PythonSoftwareFoundation.Python.3.13_qbz5n2kfra8p0\\LocalCache\\local-packages\\Python313\\site-packages\\pennylane\\operation.py:2631: PennyLaneDeprecationWarning: AnyWires is deprecated and will be removed in v0.43.  If your operation accepts any number of wires, set num_wires=None instead.\n",
      "  warnings.warn(\n"
     ]
    }
   ],
   "source": [
    "import cfd\n",
    "import cfdcc\n",
    "import cfdplot\n",
    "import cfdsim"
   ]
  },
  {
   "cell_type": "code",
   "execution_count": 3,
   "metadata": {},
   "outputs": [],
   "source": [
    "def obst(x, y):\n",
    "    return (x-3)**2 + (y-3)**2 < 1**2"
   ]
  },
  {
   "cell_type": "code",
   "execution_count": 4,
   "metadata": {},
   "outputs": [
    {
     "name": "stdout",
     "output_type": "stream",
     "text": [
      "Viscosity: nu=0.1, Re=5 (provided nu)\n",
      "Constants: alphax=0.08100, alphay=0.08100, beta=0.81000\n",
      "Re=5\n",
      "Estimated DNS required gridpoints: N=12>10 used! Potential instability...\n",
      "Total components (psi+w): 200\n",
      "Total variables: 200\n",
      "Variables (psi): 100\n",
      "Variables (w): 100\n",
      "BC points psi/w: 0\n"
     ]
    }
   ],
   "source": [
    "BASE_NAME = \"test-sim\" # nombre para guardar steps/gif abajo\n",
    "sim = cfd.Simulation({\n",
    "    \"log\": cfd.LOG_BASIC,\n",
    "    \"N\": 10,\n",
    "    \"L\": 1.0,\n",
    "    \"T\": 10, \"dt\": 0.01,\n",
    "    \"nu\": 0.1,\n",
    "    \"rho\": 1.0,\n",
    "\n",
    "    \"mode\": \"lin-seg-hhl\",\n",
    "    \"icbc\": \"tgv\",\n",
    "    \"bc-obst-obst\": obst,\n",
    "\n",
    "    # QUBO\n",
    "    \"qubo-encoding\": \"dyn\",\n",
    "    \"qubo-R\": 7,\n",
    "    \"qubo-reads\": 1,\n",
    "    \"qubo-strength\": 10.0,\n",
    "    \"qubo-chimera-plot\": False,\n",
    "    \"qubo-dyn-t-order\": 2,\n",
    "    \"qubo-dyn-intv-size\": 0,\n",
    "    \"qubo-dyn-psi-base\": 1e-2,\n",
    "    \"qubo-dyn-w-base\": 1e0,\n",
    "\n",
    "    # HHL\n",
    "    \"hhl-kappa-t\": 2,\n",
    "    \"hhl-kappa-p\": 20\n",
    "})\n",
    "sim.prepare()"
   ]
  },
  {
   "cell_type": "code",
   "execution_count": 5,
   "metadata": {},
   "outputs": [
    {
     "name": "stdout",
     "output_type": "stream",
     "text": [
      "HHL qubit count: 8\n",
      "A norm: 1.56881913602514\n",
      "Loaded cache phases (23) for kappa=2!\n",
      "QSVT gate count: 22\n",
      "HHL qubit count: 8\n",
      "A norm: 648.0\n",
      "Loaded cache phases (2425) for kappa=20!\n",
      "QSVT gate count: 2424\n",
      "C(1/10): cx=0.235, cy=0.235, maxu=2.6135038165298314, maxv=2.6155216276393993\n",
      "u_p=-1.2742366974691504, v_p=1.2727625819104373\n",
      "HHL qubit count: 8\n",
      "A norm: 1.5638604340017936\n",
      "Loaded cache phases (23) for kappa=2!\n",
      "QSVT gate count: 22\n",
      "HHL qubit count: 8\n",
      "A norm: 648.0\n",
      "Loaded cache phases (2425) for kappa=20!\n",
      "QSVT gate count: 2424\n",
      "C(2/10): cx=0.214, cy=0.214, maxu=2.378309965553569, maxv=2.377777737786054\n",
      "u_p=-1.1619859042945304, v_p=1.1628584106833941\n",
      "HHL qubit count: 8\n",
      "A norm: 1.540928143912942\n",
      "Loaded cache phases (23) for kappa=2!\n",
      "QSVT gate count: 22\n",
      "HHL qubit count: 8\n",
      "A norm: 648.0\n",
      "Loaded cache phases (2425) for kappa=20!\n",
      "QSVT gate count: 2424\n",
      "C(3/10): cx=0.196, cy=0.196, maxu=2.175620819125782, maxv=2.1739499314573396\n",
      "u_p=-1.0660632131336445, v_p=1.0681522183601337\n",
      "HHL qubit count: 8\n",
      "A norm: 1.5214823252351395\n",
      "Loaded cache phases (23) for kappa=2!\n",
      "QSVT gate count: 22\n",
      "HHL qubit count: 8\n",
      "A norm: 648.0\n",
      "Loaded cache phases (2425) for kappa=20!\n",
      "QSVT gate count: 2424\n",
      "C(4/10): cx=0.180, cy=0.180, maxu=1.9982539898913145, maxv=1.996061659600117\n",
      "u_p=-0.9823412070100268, v_p=0.9850155375586643\n",
      "HHL qubit count: 8\n",
      "A norm: 1.5047362542292928\n",
      "Loaded cache phases (23) for kappa=2!\n",
      "QSVT gate count: 22\n",
      "HHL qubit count: 8\n",
      "A norm: 648.0\n",
      "Loaded cache phases (2425) for kappa=20!\n",
      "QSVT gate count: 2424\n",
      "C(5/10): cx=0.166, cy=0.165, maxu=1.8407547037595244, maxv=1.838511101282099\n",
      "u_p=-0.9079271993426851, v_p=0.9106973945733076\n",
      "HHL qubit count: 8\n",
      "A norm: 1.491024662527726\n",
      "Loaded cache phases (23) for kappa=2!\n",
      "QSVT gate count: 22\n",
      "HHL qubit count: 8\n",
      "A norm: 648.0\n",
      "Loaded cache phases (2425) for kappa=20!\n",
      "QSVT gate count: 2424\n",
      "C(6/10): cx=0.153, cy=0.153, maxu=1.6999752568288211, maxv=1.6979213408481215\n",
      "u_p=-0.8412669865523993, v_p=0.8438660433904211\n",
      "HHL qubit count: 8\n",
      "A norm: 1.478705200487017\n",
      "Loaded cache phases (23) for kappa=2!\n",
      "QSVT gate count: 22\n",
      "HHL qubit count: 8\n",
      "A norm: 648.0\n",
      "Loaded cache phases (2425) for kappa=20!\n",
      "QSVT gate count: 2424\n",
      "C(7/10): cx=0.142, cy=0.141, maxu=1.5734740625250196, maxv=1.5717171180108205\n",
      "u_p=-0.7811817762156157, v_p=0.7834820807881134\n",
      "HHL qubit count: 8\n",
      "A norm: 1.4675779547571566\n",
      "Loaded cache phases (23) for kappa=2!\n",
      "QSVT gate count: 22\n",
      "HHL qubit count: 8\n",
      "A norm: 648.0\n",
      "Loaded cache phases (2425) for kappa=20!\n",
      "QSVT gate count: 2424\n",
      "C(8/10): cx=0.131, cy=0.131, maxu=1.4592889782041674, maxv=1.4578604799468307\n",
      "u_p=-0.7267457988690783, v_p=0.7287023497787513\n",
      "HHL qubit count: 8\n",
      "A norm: 1.4574840395579192\n",
      "Loaded cache phases (23) for kappa=2!\n",
      "QSVT gate count: 22\n",
      "HHL qubit count: 8\n",
      "A norm: 648.0\n",
      "Loaded cache phases (2425) for kappa=20!\n",
      "QSVT gate count: 2424\n",
      "C(9/10): cx=0.122, cy=0.122, maxu=1.355814048669455, maxv=1.3547045306200607\n",
      "u_p=-0.6772161254380709, v_p=0.6788302168542623\n",
      "HHL qubit count: 8\n",
      "A norm: 1.4482939370396162\n",
      "Loaded cache phases (23) for kappa=2!\n",
      "QSVT gate count: 22\n",
      "HHL qubit count: 8\n",
      "A norm: 648.0\n",
      "Loaded cache phases (2425) for kappa=20!\n",
      "QSVT gate count: 2424\n",
      "C(10/10): cx=0.114, cy=0.113, maxu=1.2617161718803478, maxv=1.2608959190386715\n",
      "u_p=-0.6319852500755337, v_p=0.6332821604222649\n"
     ]
    }
   ],
   "source": [
    "cfdsim.perform_sim(sim)"
   ]
  },
  {
   "cell_type": "code",
   "execution_count": 6,
   "metadata": {},
   "outputs": [],
   "source": [
    "STEPS_DIR = f\"sim-{BASE_NAME}-steps\"\n",
    "STEPS_GIF = f\"sim-{BASE_NAME}.gif\"\n",
    "STEPS_GIF_FPS = 6"
   ]
  },
  {
   "cell_type": "code",
   "execution_count": 7,
   "metadata": {},
   "outputs": [],
   "source": [
    "sim.plot_steps(STEPS_DIR, show_params=False, show_main_title=False)"
   ]
  },
  {
   "cell_type": "code",
   "execution_count": 8,
   "metadata": {},
   "outputs": [
    {
     "name": "stdout",
     "output_type": "stream",
     "text": [
      "Guardado en sim-test-sim.gif (steps: sim-test-sim-steps)\n"
     ]
    }
   ],
   "source": [
    "sim.plot_steps_gif(STEPS_DIR, STEPS_GIF, STEPS_GIF_FPS)\n",
    "print(f\"Guardado en {STEPS_GIF} (steps: {STEPS_DIR})\")"
   ]
  },
  {
   "cell_type": "code",
   "execution_count": 9,
   "metadata": {},
   "outputs": [
    {
     "data": {
      "text/html": [
       "<img src=\"sim-test-sim.gif\">"
      ],
      "text/plain": [
       "<IPython.core.display.HTML object>"
      ]
     },
     "metadata": {},
     "output_type": "display_data"
    }
   ],
   "source": [
    "cfdplot.display_gif(STEPS_GIF)"
   ]
  },
  {
   "cell_type": "code",
   "execution_count": 10,
   "metadata": {},
   "outputs": [
    {
     "name": "stderr",
     "output_type": "stream",
     "text": [
      "C:\\Users\\xfernandez\\AppData\\Local\\Packages\\PythonSoftwareFoundation.Python.3.13_qbz5n2kfra8p0\\LocalCache\\local-packages\\Python313\\site-packages\\guppy\\heapy\\View.py:572: UserWarning: pkg_resources is deprecated as an API. See https://setuptools.pypa.io/en/latest/pkg_resources.html. The pkg_resources package is slated for removal as early as 2025-11-30. Refrain from using this package or pin to Setuptools<81.\n",
      "  import pkg_resources\n"
     ]
    },
    {
     "name": "stdout",
     "output_type": "stream",
     "text": [
      "Partition of a set of 1070931 objects. Total size = 162704126 bytes.\n",
      " Index  Count   %     Size   % Cumulative  % Kind (class / dict of class)\n",
      "     0 300111  28 47212863  29  47212863  29 str\n",
      "     1  68713   6 30442128  19  77654991  48 types.CodeType\n",
      "     2 239334  22 18223000  11  95877991  59 tuple\n",
      "     3 144388  13 12868294   8 108746285  67 bytes\n",
      "     4  65930   6 10548800   6 119295085  73 function\n",
      "     5   6019   1  8469392   5 127764477  79 type\n",
      "     6  23557   2  5764424   4 133528901  82 dict (no owner)\n",
      "     7   3398   0  3424456   2 136953357  84 dict of module\n",
      "     8   5869   1  2640584   2 139593941  86 dict of type\n",
      "     9   4901   0  2431032   1 142024973  87 set\n",
      "<1981 more rows. Type e.g. '_.more' to view.>\n"
     ]
    }
   ],
   "source": [
    "from guppy import hpy\n",
    "h = hpy()\n",
    "print(h.heap())\n"
   ]
  }
 ],
 "metadata": {
  "kernelspec": {
   "display_name": "Python 3",
   "language": "python",
   "name": "python3"
  },
  "language_info": {
   "codemirror_mode": {
    "name": "ipython",
    "version": 3
   },
   "file_extension": ".py",
   "mimetype": "text/x-python",
   "name": "python",
   "nbconvert_exporter": "python",
   "pygments_lexer": "ipython3",
   "version": "3.13.7"
  }
 },
 "nbformat": 4,
 "nbformat_minor": 2
}
