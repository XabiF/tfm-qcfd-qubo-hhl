{
 "cells": [
  {
   "cell_type": "code",
   "execution_count": 1,
   "id": "273e5f95",
   "metadata": {},
   "outputs": [
    {
     "name": "stdout",
     "output_type": "stream",
     "text": [
      "327.6\n"
     ]
    }
   ],
   "source": [
    "u_max = 10.0\n",
    "\n",
    "N = 10\n",
    "eps = N-1\n",
    "nu = 0.1\n",
    "\n",
    "A = 0\n",
    "if u_max < nu*eps:\n",
    "    A = 8*nu*eps*eps - 4*u_max*eps\n",
    "else:\n",
    "    if u_max < 2*nu*eps:\n",
    "        A = 4*nu*eps*eps\n",
    "    else:\n",
    "        A = 4*u_max*eps - 4*nu*eps*eps\n",
    "\n",
    "print(A)"
   ]
  }
 ],
 "metadata": {
  "kernelspec": {
   "display_name": "Python 3",
   "language": "python",
   "name": "python3"
  },
  "language_info": {
   "codemirror_mode": {
    "name": "ipython",
    "version": 3
   },
   "file_extension": ".py",
   "mimetype": "text/x-python",
   "name": "python",
   "nbconvert_exporter": "python",
   "pygments_lexer": "ipython3",
   "version": "3.13.7"
  }
 },
 "nbformat": 4,
 "nbformat_minor": 5
}
