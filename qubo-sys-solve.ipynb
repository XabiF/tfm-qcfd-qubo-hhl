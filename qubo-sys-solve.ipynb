{
 "cells": [
  {
   "cell_type": "code",
   "execution_count": 439,
   "id": "c4b958c1",
   "metadata": {},
   "outputs": [],
   "source": [
    "import numpy as np\n",
    "import sympy as sp\n",
    "from pyqubo import Array, Constraint\n",
    "from dwave.samplers import SimulatedAnnealingSampler\n",
    "import matplotlib.pyplot as plt\n",
    "from pprint import pprint"
   ]
  },
  {
   "cell_type": "code",
   "execution_count": 440,
   "id": "c95f095e",
   "metadata": {},
   "outputs": [],
   "source": [
    "def qubo_vars(model):\n",
    "    qubo, offset = model.to_qubo()\n",
    "\n",
    "    vars = []\n",
    "    for k, v in qubo.items():\n",
    "        v1, v2 = k\n",
    "        if v1 not in vars:\n",
    "            vars.append(v1)\n",
    "        if v2 not in vars:\n",
    "            vars.append(v2)\n",
    "    return vars"
   ]
  },
  {
   "cell_type": "code",
   "execution_count": 441,
   "id": "b3388e1f",
   "metadata": {},
   "outputs": [],
   "source": [
    "MODO_RPOS = 1\n",
    "MODO_RPOS_RNEG = 2\n",
    "MODO_RPOS_1NEG = 3\n",
    "\n",
    "J0 = 3\n",
    "\n",
    "def prepare_qubo_bin(modo, base, n):\n",
    "    if modo == MODO_RPOS:\n",
    "        R = base\n",
    "        x_bin = Array.create('x', shape=(n, R), vartype='BINARY')\n",
    "        bin_size = n*R\n",
    "        x_vec = [sum(2**(J0-j) * x_bin[i][j] for j in range(R)) for i in range(n)]\n",
    "    elif modo == MODO_RPOS_RNEG:\n",
    "        R = base // 2\n",
    "        x_bin = Array.create('x', shape=(n, R, 2), vartype='BINARY')\n",
    "        bin_size = n*R*2\n",
    "        x_vec = [(sum(2**(J0-j) * x_bin[i][j][0] for j in range(R)) - sum(2**(J0-j) * x_bin[i][j][1] for j in range(R))) for i in range(n)]\n",
    "    elif modo == MODO_RPOS_1NEG:\n",
    "        R = base - 1\n",
    "        x_bin = Array.create('x', shape=(n, R+1), vartype='BINARY')\n",
    "        bin_size = n*(R+1)\n",
    "        x_vec = [(sum(2**(J0-j) * x_bin[i][j] for j in range(R)) - 2**(J0+1) * x_bin[i][R]) for i in range(n)]\n",
    "    else:\n",
    "        raise RuntimeError(\"todo\")\n",
    "    \n",
    "    print(f\"QUBO parameters: {bin_size}\")\n",
    "    return (x_bin, x_vec, bin_size, R)\n",
    "\n",
    "def parse_qubo_bin(modo, sol, n, R):\n",
    "    # Decodificación del resultado binario a real\n",
    "    x_sol = np.zeros(n)\n",
    "\n",
    "    if modo == MODO_RPOS:\n",
    "        for i in range(n):\n",
    "            for j in range(R):\n",
    "                bit_name = f'x[{i}][{j}]'\n",
    "                bit_val = sol[bit_name]\n",
    "                x_sol[i] += bit_val * 2**(J0-j)\n",
    "    elif modo == MODO_RPOS_RNEG:\n",
    "        for i in range(n):\n",
    "            for j in range(R):\n",
    "                pos_bit_name = f'x[{i}][{j}][0]'\n",
    "                pos_bit_val = sol[pos_bit_name]\n",
    "                x_sol[i] += pos_bit_val * 2**(J0-j)\n",
    "                neg_bit_name = f'x[{i}][{j}][1]'\n",
    "                neg_bit_val = sol[neg_bit_name]\n",
    "                x_sol[i] -= neg_bit_val * 2**(J0-j)\n",
    "    elif modo == MODO_RPOS_1NEG:\n",
    "        for i in range(n):\n",
    "            for j in range(R):\n",
    "                pos_bit_name = f'x[{i}][{j}]'\n",
    "                pos_bit_val = sol[pos_bit_name]\n",
    "                x_sol[i] += pos_bit_val * 2**(J0-j)\n",
    "            \n",
    "            neg_bit_name = f'x[{i}][{R}]'\n",
    "            neg_bit_val = sol[neg_bit_name]\n",
    "            x_sol[i] -= neg_bit_val * 2**(J0+1)\n",
    "    else:\n",
    "        raise RuntimeError(\"todo\")\n",
    "\n",
    "    return x_sol"
   ]
  },
  {
   "cell_type": "code",
   "execution_count": 442,
   "id": "a9d6eaa6",
   "metadata": {},
   "outputs": [],
   "source": [
    "def random_syslin(n):\n",
    "    vmax = 5\n",
    "    vmin = -5\n",
    "    A = np.random.randint(vmin, vmax+1, size=(n, n))\n",
    "    b = np.random.randint(vmin, vmax+1, size=(n))\n",
    "    return (A, b)"
   ]
  },
  {
   "cell_type": "code",
   "execution_count": 443,
   "id": "8c664098",
   "metadata": {},
   "outputs": [],
   "source": [
    "def syslin_solve_np(A, b):\n",
    "    Ainv = np.linalg.inv(A)\n",
    "    return np.matmul(Ainv, b)"
   ]
  },
  {
   "cell_type": "code",
   "execution_count": 444,
   "id": "75550560",
   "metadata": {},
   "outputs": [],
   "source": [
    "def syslin_solve_qubo(modo, A, b, base, n):\n",
    "    x_bin, x_vec, bin_size, R = prepare_qubo_bin(modo, base, n)\n",
    "\n",
    "    objective = sum((sum(A[i, j] * x_vec[j] for j in range(n)) - b[i])**2 for i in range(n))\n",
    "    H = Constraint(objective, label=\"Ax_minus_b\")\n",
    "\n",
    "    model = H.compile()\n",
    "    vars = qubo_vars(model)\n",
    "    print(f\"QUBO compiled vars: {len(vars)}\")\n",
    "    bqm = model.to_bqm()\n",
    "\n",
    "    sampler = SimulatedAnnealingSampler()\n",
    "    sampleset = sampler.sample(bqm, num_reads=10)\n",
    "\n",
    "    # Decodificar la mejor solución\n",
    "    decoded = model.decode_sampleset(sampleset)\n",
    "    best = min(decoded, key=lambda x: x.energy)\n",
    "    solution = best.sample\n",
    "\n",
    "    return parse_qubo_bin(modo, solution, n, R)"
   ]
  },
  {
   "cell_type": "code",
   "execution_count": 445,
   "id": "d88e7f9e",
   "metadata": {},
   "outputs": [],
   "source": [
    "def compare_sol(n, x_clas, x_qubo, title, fig, ax):\n",
    "    rel_errs = [100*abs((x_qubo[i] - x_clas[i]) / x_clas[i]) for i in range(n)]\n",
    "    rel_err_labels = [f\"{i}\" for i in range(n)]\n",
    "\n",
    "    # Plotting\n",
    "    ax.bar(rel_err_labels, rel_errs, color='skyblue')\n",
    "    ax.set_ylabel(\"Relative error (%)\")\n",
    "    ax.set_title(title)\n",
    "\n",
    "    # Optional: add value labels on top of bars\n",
    "    for i, v in enumerate(rel_errs):\n",
    "        ax.text(i, v + 1, f\"{v:.3f}%\", ha='center', fontsize=6)\n",
    "\n",
    "    ax.set_ylim(0, max(rel_errs) + 10)  # Add headroom for labels\n",
    "    ax.grid(axis='y', linestyle='--', alpha=0.7)\n",
    "    \n",
    "\n",
    "def test(base, n, A, b):\n",
    "    x_clas = syslin_solve_np(A, b)\n",
    "\n",
    "    fig, axes = plt.subplots(1, 3, figsize=(5,5))\n",
    "\n",
    "    x_qubo1 = syslin_solve_qubo(MODO_RPOS, A, b, base, n)\n",
    "    compare_sol(n, x_clas, x_qubo1, \"MODO_RPOS\", fig, axes[0])\n",
    "\n",
    "    x_qubo2 = syslin_solve_qubo(MODO_RPOS_RNEG, A, b, base, n)\n",
    "    compare_sol(n, x_clas, x_qubo2, \"MODO_RPOS_RNEG\", fig, axes[1])\n",
    "\n",
    "    x_qubo3 = syslin_solve_qubo(MODO_RPOS_1NEG, A, b, base, n)\n",
    "    compare_sol(n, x_clas, x_qubo3, \"MODO_RPOS_1NEG\", fig, axes[2])\n",
    "\n",
    "    plt.tight_layout()\n",
    "    plt.show()\n",
    "\n",
    "    print(f\"C: {x_clas}\")\n",
    "    print(f\"Q1: {x_qubo1}\")\n",
    "    print(f\"Q2: {x_qubo2}\")\n",
    "    print(f\"Q3: {x_qubo3}\")"
   ]
  },
  {
   "cell_type": "code",
   "execution_count": 446,
   "id": "67e0f265",
   "metadata": {},
   "outputs": [
    {
     "name": "stdout",
     "output_type": "stream",
     "text": [
      "QUBO parameters: 48\n",
      "QUBO compiled vars: 48\n",
      "QUBO parameters: 48\n",
      "QUBO compiled vars: 48\n",
      "QUBO parameters: 48\n",
      "QUBO compiled vars: 48\n"
     ]
    },
    {
     "data": {
      "image/png": "[encoded data removed]",
      "text/plain": [
       "<Figure size 500x500 with 3 Axes>"
      ]
     },
     "metadata": {},
     "output_type": "display_data"
    },
    {
     "name": "stdout",
     "output_type": "stream",
     "text": [
      "C: [-1.4375  0.9375  3.75    0.8125]\n",
      "Q1: [0.         0.30859375 0.703125   0.3984375 ]\n",
      "Q2: [-1.5   1.    4.    0.75]\n",
      "Q3: [-2.0078125  1.203125   5.         1.       ]\n"
     ]
    }
   ],
   "source": [
    "# Test\n",
    "\n",
    "n = 4\n",
    "base = 12\n",
    "A, b = random_syslin(n)\n",
    "test(base, n, A, b)"
   ]
  },
  {
   "cell_type": "markdown",
   "id": "efcb167b",
   "metadata": {},
   "source": [
    "**Cuadrático**"
   ]
  },
  {
   "cell_type": "code",
   "execution_count": 447,
   "id": "ff2b909b",
   "metadata": {},
   "outputs": [],
   "source": [
    "def sysquad_count_compiled_qubo(modo, Q, A, b, n, R, force):\n",
    "    x_bin, x_vec, ctx, bin_size = prepare_qubo_bin(modo, n, R)\n",
    "\n",
    "    objective = sum((sum(Q[i,j,k]*x_vec[j]*x_vec[k] for j in range(n) for k in range(n)) + sum(A[i,j]*x_vec[j] for j in range(n)) - b[i])**2 for i in range(n))\n",
    "    H = Constraint(objective, label=\"Qxx_Ax_minus_b\")\n",
    "\n",
    "    model = H.compile(strength=force)\n",
    "    bqm = model.to_bqm()\n",
    "    vars = qubo_vars(model)\n",
    "    return (bin_size, len(vars))"
   ]
  },
  {
   "cell_type": "code",
   "execution_count": 448,
   "id": "d74d1ed2",
   "metadata": {},
   "outputs": [],
   "source": [
    "def sysquad_solve_qubo(modo, Q, A, b, n, R, force):\n",
    "    x_bin, x_vec, ctx, bin_size = prepare_qubo_bin(modo, n, R)\n",
    "\n",
    "    objective = sum((sum(Q[i,j,k]*x_vec[j]*x_vec[k] for j in range(n) for k in range(n)) + sum(A[i,j]*x_vec[j] for j in range(n)) - b[i])**2 for i in range(n))\n",
    "    H = Constraint(objective, label=\"Qxx_Ax_minus_b\")\n",
    "\n",
    "    model = H.compile(strength=force)\n",
    "    bqm = model.to_bqm()\n",
    "    vars = qubo_vars(model)\n",
    "    print(f\"QUBO compiled vars: {len(vars)} {vars}\")\n",
    "\n",
    "    sampler = SimulatedAnnealingSampler()\n",
    "    sampleset = sampler.sample(bqm, num_reads=200)\n",
    "\n",
    "    # Decodificar la mejor solución\n",
    "    decoded = model.decode_sampleset(sampleset)\n",
    "    best = min(decoded, key=lambda x: x.energy)\n",
    "    solution = best.sample\n",
    "\n",
    "    return parse_qubo_bin(modo, solution, n, R, ctx)"
   ]
  },
  {
   "cell_type": "code",
   "execution_count": 449,
   "id": "db8dba16",
   "metadata": {},
   "outputs": [],
   "source": [
    "def sysquad_solve_sp(n, Q, A, b, x0):\n",
    "    x = sp.symbols(f'x0:{n}')\n",
    "\n",
    "    # Convert to sympy Float for numerical stability (optional)\n",
    "    Q_sp = sp.ImmutableDenseNDimArray(Q.tolist())\n",
    "    A_sp = sp.ImmutableMatrix(A.tolist())\n",
    "    b_sp = sp.ImmutableMatrix(b.tolist())\n",
    "\n",
    "    equations = []\n",
    "    for i in range(n):\n",
    "        eq = sum(Q_sp[i,j,k]*x[j]*x[k] for j in range(n) for k in range(n)) + sum(A_sp[i,j]*x[j] for j in range(n)) - b_sp[i]\n",
    "        equations.append(eq)\n",
    "\n",
    "    # Solve numerically\n",
    "    return np.array(list(sp.nsolve(equations, x, x0)))"
   ]
  },
  {
   "cell_type": "code",
   "execution_count": 450,
   "id": "863a5f34",
   "metadata": {},
   "outputs": [],
   "source": [
    "def print_sysquad(n, Q, A, b):\n",
    "    for i in range(n):\n",
    "        print(f\"Eq[{i}]: \", end=\"\")\n",
    "        for j in range(n):\n",
    "            for k in range(n):\n",
    "                if Q[i,j,k] != 0:\n",
    "                    print(f\"+{Q[i,j,k]}*x{j}*x{k} \", end=\"\")\n",
    "        for j in range(n):\n",
    "            if A[i,j] != 0:\n",
    "                print(f\"+{A[i,j]}*x{j} \", end=\"\")\n",
    "        \n",
    "        print(f\"= {b[i]}\")\n",
    "\n",
    "def test_sysquad(n, Q, A, b, x_sol):\n",
    "    for i in range(n):\n",
    "        val_i = 0\n",
    "\n",
    "        print(f\"EqTest[{i}]: \", end=\"\")\n",
    "        for j in range(n):\n",
    "            for k in range(n):\n",
    "                val_i += Q[i,j,k]*x_sol[j]*x_sol[k]\n",
    "        for j in range(n):\n",
    "            if A[i,j] != 0:\n",
    "                val_i += A[i,j]*x_sol[j]\n",
    "        \n",
    "        print(f\"{val_i} = {b[i]} (?)\")"
   ]
  },
  {
   "cell_type": "code",
   "execution_count": null,
   "id": "5e2f9dac",
   "metadata": {},
   "outputs": [
    {
     "name": "stdout",
     "output_type": "stream",
     "text": [
      "QUBO parameters: 8\n",
      "QUBO parameters: 8\n",
      "QUBO parameters: 8\n",
      "QUBO parameters: 8\n",
      "QUBO parameters: 8\n",
      "QUBO parameters: 8\n",
      "QUBO parameters: 16\n",
      "QUBO parameters: 16\n",
      "QUBO parameters: 16\n",
      "QUBO parameters: 16\n"
     ]
    },
    {
     "ename": "IndexError",
     "evalue": "list index out of range",
     "output_type": "error",
     "traceback": [
      "\u001b[31m---------------------------------------------------------------------------\u001b[39m",
      "\u001b[31mIndexError\u001b[39m                                Traceback (most recent call last)",
      "\u001b[36mCell\u001b[39m\u001b[36m \u001b[39m\u001b[32mIn[451]\u001b[39m\u001b[32m, line 34\u001b[39m\n\u001b[32m     31\u001b[39m     plt.show()\n\u001b[32m     32\u001b[39m     \u001b[38;5;28;01mreturn\u001b[39;00m xs, ys\n\u001b[32m---> \u001b[39m\u001b[32m34\u001b[39m xs, ys = \u001b[43mtest\u001b[49m\u001b[43m(\u001b[49m\u001b[32;43m7\u001b[39;49m\u001b[43m,\u001b[49m\u001b[43m \u001b[49m\u001b[32;43m4\u001b[39;49m\u001b[43m,\u001b[49m\u001b[43m \u001b[49m\u001b[32;43m3\u001b[39;49m\u001b[43m)\u001b[49m\n",
      "\u001b[36mCell\u001b[39m\u001b[36m \u001b[39m\u001b[32mIn[451]\u001b[39m\u001b[32m, line 12\u001b[39m, in \u001b[36mtest\u001b[39m\u001b[34m(nmax, R, tries)\u001b[39m\n\u001b[32m      9\u001b[39m A = np.random.rand(n, n)\n\u001b[32m     10\u001b[39m b = np.random.rand(n)\n\u001b[32m---> \u001b[39m\u001b[32m12\u001b[39m x, y = \u001b[43msysquad_count_compiled_qubo\u001b[49m\u001b[43m(\u001b[49m\u001b[43mMODO_RPOS_RNEG\u001b[49m\u001b[43m,\u001b[49m\u001b[43m \u001b[49m\u001b[43mQ\u001b[49m\u001b[43m,\u001b[49m\u001b[43m \u001b[49m\u001b[43mA\u001b[49m\u001b[43m,\u001b[49m\u001b[43m \u001b[49m\u001b[43mb\u001b[49m\u001b[43m,\u001b[49m\u001b[43m \u001b[49m\u001b[43mn\u001b[49m\u001b[43m,\u001b[49m\u001b[43m \u001b[49m\u001b[43mR\u001b[49m\u001b[43m,\u001b[49m\u001b[43m \u001b[49m\u001b[32;43m5.0\u001b[39;49m\u001b[43m)\u001b[49m\n\u001b[32m     13\u001b[39m cur_xs.append(x)\n\u001b[32m     14\u001b[39m cur_ys.append(y)\n",
      "\u001b[36mCell\u001b[39m\u001b[36m \u001b[39m\u001b[32mIn[447]\u001b[39m\u001b[32m, line 4\u001b[39m, in \u001b[36msysquad_count_compiled_qubo\u001b[39m\u001b[34m(modo, Q, A, b, n, R, force)\u001b[39m\n\u001b[32m      1\u001b[39m \u001b[38;5;28;01mdef\u001b[39;00m\u001b[38;5;250m \u001b[39m\u001b[34msysquad_count_compiled_qubo\u001b[39m(modo, Q, A, b, n, R, force):\n\u001b[32m      2\u001b[39m     x_bin, x_vec, ctx, bin_size = prepare_qubo_bin(modo, n, R)\n\u001b[32m----> \u001b[39m\u001b[32m4\u001b[39m     objective = \u001b[38;5;28;43msum\u001b[39;49m\u001b[43m(\u001b[49m\u001b[43m(\u001b[49m\u001b[38;5;28;43msum\u001b[39;49m\u001b[43m(\u001b[49m\u001b[43mQ\u001b[49m\u001b[43m[\u001b[49m\u001b[43mi\u001b[49m\u001b[43m,\u001b[49m\u001b[43mj\u001b[49m\u001b[43m,\u001b[49m\u001b[43mk\u001b[49m\u001b[43m]\u001b[49m\u001b[43m*\u001b[49m\u001b[43mx_vec\u001b[49m\u001b[43m[\u001b[49m\u001b[43mj\u001b[49m\u001b[43m]\u001b[49m\u001b[43m*\u001b[49m\u001b[43mx_vec\u001b[49m\u001b[43m[\u001b[49m\u001b[43mk\u001b[49m\u001b[43m]\u001b[49m\u001b[43m \u001b[49m\u001b[38;5;28;43;01mfor\u001b[39;49;00m\u001b[43m \u001b[49m\u001b[43mj\u001b[49m\u001b[43m \u001b[49m\u001b[38;5;129;43;01min\u001b[39;49;00m\u001b[43m \u001b[49m\u001b[38;5;28;43mrange\u001b[39;49m\u001b[43m(\u001b[49m\u001b[43mn\u001b[49m\u001b[43m)\u001b[49m\u001b[43m \u001b[49m\u001b[38;5;28;43;01mfor\u001b[39;49;00m\u001b[43m \u001b[49m\u001b[43mk\u001b[49m\u001b[43m \u001b[49m\u001b[38;5;129;43;01min\u001b[39;49;00m\u001b[43m \u001b[49m\u001b[38;5;28;43mrange\u001b[39;49m\u001b[43m(\u001b[49m\u001b[43mn\u001b[49m\u001b[43m)\u001b[49m\u001b[43m)\u001b[49m\u001b[43m \u001b[49m\u001b[43m+\u001b[49m\u001b[43m \u001b[49m\u001b[38;5;28;43msum\u001b[39;49m\u001b[43m(\u001b[49m\u001b[43mA\u001b[49m\u001b[43m[\u001b[49m\u001b[43mi\u001b[49m\u001b[43m,\u001b[49m\u001b[43mj\u001b[49m\u001b[43m]\u001b[49m\u001b[43m*\u001b[49m\u001b[43mx_vec\u001b[49m\u001b[43m[\u001b[49m\u001b[43mj\u001b[49m\u001b[43m]\u001b[49m\u001b[43m \u001b[49m\u001b[38;5;28;43;01mfor\u001b[39;49;00m\u001b[43m \u001b[49m\u001b[43mj\u001b[49m\u001b[43m \u001b[49m\u001b[38;5;129;43;01min\u001b[39;49;00m\u001b[43m \u001b[49m\u001b[38;5;28;43mrange\u001b[39;49m\u001b[43m(\u001b[49m\u001b[43mn\u001b[49m\u001b[43m)\u001b[49m\u001b[43m)\u001b[49m\u001b[43m \u001b[49m\u001b[43m-\u001b[49m\u001b[43m \u001b[49m\u001b[43mb\u001b[49m\u001b[43m[\u001b[49m\u001b[43mi\u001b[49m\u001b[43m]\u001b[49m\u001b[43m)\u001b[49m\u001b[43m*\u001b[49m\u001b[43m*\u001b[49m\u001b[32;43m2\u001b[39;49m\u001b[43m \u001b[49m\u001b[38;5;28;43;01mfor\u001b[39;49;00m\u001b[43m \u001b[49m\u001b[43mi\u001b[49m\u001b[43m \u001b[49m\u001b[38;5;129;43;01min\u001b[39;49;00m\u001b[43m \u001b[49m\u001b[38;5;28;43mrange\u001b[39;49m\u001b[43m(\u001b[49m\u001b[43mn\u001b[49m\u001b[43m)\u001b[49m\u001b[43m)\u001b[49m\n\u001b[32m      5\u001b[39m     H = Constraint(objective, label=\u001b[33m\"\u001b[39m\u001b[33mQxx_Ax_minus_b\u001b[39m\u001b[33m\"\u001b[39m)\n\u001b[32m      7\u001b[39m     model = H.compile(strength=force)\n",
      "\u001b[36mCell\u001b[39m\u001b[36m \u001b[39m\u001b[32mIn[447]\u001b[39m\u001b[32m, line 4\u001b[39m, in \u001b[36m<genexpr>\u001b[39m\u001b[34m(.0)\u001b[39m\n\u001b[32m      1\u001b[39m \u001b[38;5;28;01mdef\u001b[39;00m\u001b[38;5;250m \u001b[39m\u001b[34msysquad_count_compiled_qubo\u001b[39m(modo, Q, A, b, n, R, force):\n\u001b[32m      2\u001b[39m     x_bin, x_vec, ctx, bin_size = prepare_qubo_bin(modo, n, R)\n\u001b[32m----> \u001b[39m\u001b[32m4\u001b[39m     objective = \u001b[38;5;28msum\u001b[39m((\u001b[38;5;28;43msum\u001b[39;49m\u001b[43m(\u001b[49m\u001b[43mQ\u001b[49m\u001b[43m[\u001b[49m\u001b[43mi\u001b[49m\u001b[43m,\u001b[49m\u001b[43mj\u001b[49m\u001b[43m,\u001b[49m\u001b[43mk\u001b[49m\u001b[43m]\u001b[49m\u001b[43m*\u001b[49m\u001b[43mx_vec\u001b[49m\u001b[43m[\u001b[49m\u001b[43mj\u001b[49m\u001b[43m]\u001b[49m\u001b[43m*\u001b[49m\u001b[43mx_vec\u001b[49m\u001b[43m[\u001b[49m\u001b[43mk\u001b[49m\u001b[43m]\u001b[49m\u001b[43m \u001b[49m\u001b[38;5;28;43;01mfor\u001b[39;49;00m\u001b[43m \u001b[49m\u001b[43mj\u001b[49m\u001b[43m \u001b[49m\u001b[38;5;129;43;01min\u001b[39;49;00m\u001b[43m \u001b[49m\u001b[38;5;28;43mrange\u001b[39;49m\u001b[43m(\u001b[49m\u001b[43mn\u001b[49m\u001b[43m)\u001b[49m\u001b[43m \u001b[49m\u001b[38;5;28;43;01mfor\u001b[39;49;00m\u001b[43m \u001b[49m\u001b[43mk\u001b[49m\u001b[43m \u001b[49m\u001b[38;5;129;43;01min\u001b[39;49;00m\u001b[43m \u001b[49m\u001b[38;5;28;43mrange\u001b[39;49m\u001b[43m(\u001b[49m\u001b[43mn\u001b[49m\u001b[43m)\u001b[49m\u001b[43m)\u001b[49m + \u001b[38;5;28msum\u001b[39m(A[i,j]*x_vec[j] \u001b[38;5;28;01mfor\u001b[39;00m j \u001b[38;5;129;01min\u001b[39;00m \u001b[38;5;28mrange\u001b[39m(n)) - b[i])**\u001b[32m2\u001b[39m \u001b[38;5;28;01mfor\u001b[39;00m i \u001b[38;5;129;01min\u001b[39;00m \u001b[38;5;28mrange\u001b[39m(n))\n\u001b[32m      5\u001b[39m     H = Constraint(objective, label=\u001b[33m\"\u001b[39m\u001b[33mQxx_Ax_minus_b\u001b[39m\u001b[33m\"\u001b[39m)\n\u001b[32m      7\u001b[39m     model = H.compile(strength=force)\n",
      "\u001b[36mCell\u001b[39m\u001b[36m \u001b[39m\u001b[32mIn[447]\u001b[39m\u001b[32m, line 4\u001b[39m, in \u001b[36m<genexpr>\u001b[39m\u001b[34m(.0)\u001b[39m\n\u001b[32m      1\u001b[39m \u001b[38;5;28;01mdef\u001b[39;00m\u001b[38;5;250m \u001b[39m\u001b[34msysquad_count_compiled_qubo\u001b[39m(modo, Q, A, b, n, R, force):\n\u001b[32m      2\u001b[39m     x_bin, x_vec, ctx, bin_size = prepare_qubo_bin(modo, n, R)\n\u001b[32m----> \u001b[39m\u001b[32m4\u001b[39m     objective = \u001b[38;5;28msum\u001b[39m((\u001b[38;5;28msum\u001b[39m(Q[i,j,k]*x_vec[j]*\u001b[43mx_vec\u001b[49m\u001b[43m[\u001b[49m\u001b[43mk\u001b[49m\u001b[43m]\u001b[49m \u001b[38;5;28;01mfor\u001b[39;00m j \u001b[38;5;129;01min\u001b[39;00m \u001b[38;5;28mrange\u001b[39m(n) \u001b[38;5;28;01mfor\u001b[39;00m k \u001b[38;5;129;01min\u001b[39;00m \u001b[38;5;28mrange\u001b[39m(n)) + \u001b[38;5;28msum\u001b[39m(A[i,j]*x_vec[j] \u001b[38;5;28;01mfor\u001b[39;00m j \u001b[38;5;129;01min\u001b[39;00m \u001b[38;5;28mrange\u001b[39m(n)) - b[i])**\u001b[32m2\u001b[39m \u001b[38;5;28;01mfor\u001b[39;00m i \u001b[38;5;129;01min\u001b[39;00m \u001b[38;5;28mrange\u001b[39m(n))\n\u001b[32m      5\u001b[39m     H = Constraint(objective, label=\u001b[33m\"\u001b[39m\u001b[33mQxx_Ax_minus_b\u001b[39m\u001b[33m\"\u001b[39m)\n\u001b[32m      7\u001b[39m     model = H.compile(strength=force)\n",
      "\u001b[31mIndexError\u001b[39m: list index out of range"
     ]
    },
    {
     "ename": "",
     "evalue": "",
     "output_type": "error",
     "traceback": [
      "\u001b[1;31mEl kernel se bloqueó al ejecutar código en la celda actual o en una celda anterior. \n",
      "\u001b[1;31mRevise el código de las celdas para identificar una posible causa del error. \n",
      "\u001b[1;31mHaga clic <a href='https://aka.ms/vscodeJupyterKernelCrash'>aquí</a> para obtener más información. \n",
      "\u001b[1;31mVea Jupyter <a href='command:jupyter.viewOutput'>log</a> para obtener más detalles."
     ]
    }
   ],
   "source": [
    "def test(nmax, R, tries):\n",
    "    xs = []\n",
    "    ys = []\n",
    "    for n in range(2, nmax):\n",
    "        cur_xs = []\n",
    "        cur_ys = []\n",
    "        for i in range(tries):\n",
    "            Q = np.random.rand(n, n, n)\n",
    "            A = np.random.rand(n, n)\n",
    "            b = np.random.rand(n)\n",
    "\n",
    "            x, y = sysquad_count_compiled_qubo(MODO_RPOS_RNEG, Q, A, b, n, R, 5.0)\n",
    "            cur_xs.append(x)\n",
    "            cur_ys.append(y)\n",
    "        xs.append(sum(cur_xs) / len(cur_xs))\n",
    "        ys.append(sum(cur_ys) / len(cur_ys))\n",
    "\n",
    "    # Plot first set of points with a line\n",
    "    plt.plot(xs, ys, label='Line 1', marker='o')\n",
    "\n",
    "    # Add labels and title\n",
    "    plt.xlabel('X-axis')\n",
    "    plt.ylabel('Y-axis')\n",
    "    plt.title('Two Line Plots')\n",
    "\n",
    "    # Show legend\n",
    "    plt.legend()\n",
    "\n",
    "    # Show the plot\n",
    "    plt.grid(True)\n",
    "    plt.show()\n",
    "    return xs, ys\n",
    "\n",
    "xs, ys = test(7, 4, 3)"
   ]
  },
  {
   "cell_type": "markdown",
   "id": "1f55f41f",
   "metadata": {},
   "source": [
    "R=3: y=0.5*x*(x+1)"
   ]
  },
  {
   "cell_type": "code",
   "execution_count": null,
   "id": "43e3730f",
   "metadata": {},
   "outputs": [
    {
     "name": "stdout",
     "output_type": "stream",
     "text": [
      "y = 0.500x² + 0.500x + 0.000\n"
     ]
    }
   ],
   "source": [
    "import numpy as np\n",
    "from numpy.polynomial.polynomial import Polynomial\n",
    "\n",
    "# Fit quadratic (degree 2)\n",
    "coeffs_quadratic = np.polyfit(xs, ys, deg=2)\n",
    "p_quadratic = np.poly1d(coeffs_quadratic)\n",
    "y_fit_quadratic = p_quadratic(xs)\n",
    "\n",
    "a, b, c = coeffs_quadratic\n",
    "\n",
    "# Print the quadratic formula\n",
    "print(f\"y = {a:.3f}x² + {b:.3f}x + {c:.3f}\")\n"
   ]
  },
  {
   "cell_type": "code",
   "execution_count": null,
   "id": "0036ea69",
   "metadata": {},
   "outputs": [],
   "source": [
    "from scipy.optimize import curve_fit\n",
    "\n",
    "def exp_func(x, a, b):\n",
    "    return a * np.exp(b * x)\n",
    "\n",
    "params_exp, _ = curve_fit(exp_func, xs, ys)\n",
    "y_fit_exp = exp_func(np.array(xs), *params_exp)\n"
   ]
  },
  {
   "cell_type": "code",
   "execution_count": null,
   "id": "5212a92c",
   "metadata": {},
   "outputs": [
    {
     "name": "stdout",
     "output_type": "stream",
     "text": [
      "Quadratic R²: 1.0\n",
      "Exponential R²: 0.9869760685133141\n"
     ]
    }
   ],
   "source": [
    "from sklearn.metrics import r2_score\n",
    "\n",
    "r2_quad = r2_score(ys, y_fit_quadratic)\n",
    "r2_exp = r2_score(ys, y_fit_exp)\n",
    "\n",
    "print(\"Quadratic R²:\", r2_quad)\n",
    "print(\"Exponential R²:\", r2_exp)\n"
   ]
  },
  {
   "cell_type": "code",
   "execution_count": null,
   "id": "c4c40de6",
   "metadata": {},
   "outputs": [
    {
     "name": "stdout",
     "output_type": "stream",
     "text": [
      "Eq[0]: +1.0*x0*x1 +2*x1 = 1\n",
      "Eq[1]: +1*x0 +1*x1 = 2\n",
      "C: [1.73205080756888 0.267949192431123]\n",
      "EqTest[0]: 1.00000000000000 = 1 (?)\n",
      "EqTest[1]: 2.00000000000000 = 2 (?)\n",
      "QUBO parameters: 16\n",
      "QUBO compiled vars: 136 ['x[1][4]', 'x[0][6] * x[0][0]', 'x[1][7] * x[1][2]', 'x[1][7] * x[1][1]', 'x[0][5] * x[0][3]', 'x[1][6]', 'x[0][6] * x[0][1]', 'x[1][4] * x[0][5]', 'x[1][3]', 'x[1][3] * x[1][0]', 'x[0][7] * x[0][1]', 'x[0][6]', 'x[1][5] * x[1][3]', 'x[0][3] * x[0][1]', 'x[1][7] * x[1][0]', 'x[1][6] * x[1][1]', 'x[0][4] * x[0][2]', 'x[0][7] * x[0][5]', 'x[1][6] * x[1][3]', 'x[1][5]', 'x[0][3] * x[0][2]', 'x[1][4] * x[1][2]', 'x[0][4]', 'x[1][6] * x[0][4]', 'x[0][1]', 'x[1][2] * x[1][1]', 'x[1][1]', 'x[1][4] * x[1][3]', 'x[0][5] * x[0][2]', 'x[1][7] * x[1][4]', 'x[0][2] * x[0][0]', 'x[0][7] * x[0][3]', 'x[1][2]', 'x[1][2] * x[0][7]', 'x[1][5] * x[1][4]', 'x[0][5]', 'x[1][5] * x[1][2]', 'x[0][1] * x[0][0]', 'x[1][5] * x[1][1]', 'x[0][0]', 'x[1][6] * x[0][1]', 'x[0][2] * x[0][1]', 'x[1][6] * x[1][0]', 'x[1][6] * x[1][5]', 'x[0][6] * x[0][5]', 'x[0][3]', 'x[0][6] * x[0][4]', 'x[1][1] * x[1][0]', 'x[1][0]', 'x[0][7] * x[0][6]', 'x[0][2]', 'x[0][5] * x[0][0]', 'x[1][6] * x[1][2]', 'x[1][3] * x[1][2]', 'x[0][5] * x[0][1]', 'x[0][4] * x[0][0]', 'x[0][4] * x[0][3]', 'x[0][7] * x[0][0]', 'x[1][0] * x[0][6]', 'x[1][4] * x[1][0]', 'x[1][4] * x[0][4]', 'x[1][7] * x[1][3]', 'x[0][6] * x[0][2]', 'x[1][7] * x[1][6]', 'x[0][7] * x[0][2]', 'x[1][3] * x[1][1]', 'x[1][4] * x[1][1]', 'x[0][3] * x[0][0]', 'x[1][7]', 'x[1][1] * x[0][7]', 'x[0][7] * x[0][4]', 'x[0][4] * x[0][1]', 'x[0][6] * x[0][3]', 'x[1][2] * x[0][6]', 'x[0][7]', 'x[1][2] * x[1][0]', 'x[1][0] * x[0][0]', 'x[1][6] * x[0][6]', 'x[1][7] * x[1][5]', 'x[1][6] * x[1][4]', 'x[1][4] * x[0][6]', 'x[1][3] * x[0][1]', 'x[1][4] * x[0][2]', 'x[1][5] * x[1][0]', 'x[1][3] * x[0][2]', 'x[1][7] * x[0][4]', 'x[0][5] * x[0][4]', 'x[1][5] * x[0][0]', 'x[1][2] * x[0][0]', 'x[1][0] * x[0][7]', 'x[1][3] * x[0][6]', 'x[1][5] * x[0][4]', 'x[1][5] * x[0][6]', 'x[1][5] * x[0][1]', 'x[1][5] * x[0][3]', 'x[1][3] * x[0][5]', 'x[1][6] * x[0][2]', 'x[1][6] * x[0][3]', 'x[1][6] * x[0][7]', 'x[1][1] * x[0][5]', 'x[1][2] * x[0][1]', 'x[1][4] * x[0][3]', 'x[1][0] * x[0][4]', 'x[1][4] * x[0][1]', 'x[1][7] * x[0][6]', 'x[1][5] * x[0][5]', 'x[1][1] * x[0][6]', 'x[1][7] * x[0][2]', 'x[1][4] * x[0][7]', 'x[1][5] * x[0][2]', 'x[1][7] * x[0][3]', 'x[1][1] * x[0][1]', 'x[1][0] * x[0][5]', 'x[1][6] * x[0][0]', 'x[1][3] * x[0][7]', 'x[1][0] * x[0][2]', 'x[1][0] * x[0][1]', 'x[1][4] * x[0][0]', 'x[1][1] * x[0][4]', 'x[1][2] * x[0][4]', 'x[1][7] * x[0][7]', 'x[1][2] * x[0][2]', 'x[1][6] * x[0][5]', 'x[1][5] * x[0][7]', 'x[1][7] * x[0][5]', 'x[1][7] * x[0][0]', 'x[1][2] * x[0][3]', 'x[1][3] * x[0][3]', 'x[1][2] * x[0][5]', 'x[1][1] * x[0][3]', 'x[1][7] * x[0][1]', 'x[1][1] * x[0][0]', 'x[1][3] * x[0][0]', 'x[1][0] * x[0][3]', 'x[1][1] * x[0][2]', 'x[1][3] * x[0][4]']\n",
      "Q: [1.71875 0.21875]\n",
      "EqTest[0]: 0.8134765625 = 1 (?)\n",
      "EqTest[1]: 1.9375 = 2 (?)\n"
     ]
    }
   ],
   "source": [
    "# Quad test\n",
    "\n",
    "n = 2\n",
    "\n",
    "A = np.array([[0, 2],\n",
    "              [1, 1]])\n",
    "\n",
    "Q = np.zeros((n, n, n))\n",
    "Q[0,0,1] = 1\n",
    "\n",
    "b = np.array([1, 2])\n",
    "\n",
    "print_sysquad(n, Q, A, b)\n",
    "\n",
    "x_clas = sysquad_solve_sp(n, Q, A, b, [1.0, 1.0])\n",
    "print(f\"C: {x_clas}\")\n",
    "test_sysquad(n, Q, A, b, x_clas)\n",
    "\n",
    "x_sol = sysquad_solve_qubo(MODO_RPOS, Q, A, b, n, 8, 10.0)\n",
    "print(f\"Q: {x_sol}\")\n",
    "test_sysquad(n, Q, A, b, x_sol)"
   ]
  }
 ],
 "metadata": {
  "kernelspec": {
   "display_name": "Python 3",
   "language": "python",
   "name": "python3"
  },
  "language_info": {
   "codemirror_mode": {
    "name": "ipython",
    "version": 3
   },
   "file_extension": ".py",
   "mimetype": "text/x-python",
   "name": "python",
   "nbconvert_exporter": "python",
   "pygments_lexer": "ipython3",
   "version": "3.13.5"
  }
 },
 "nbformat": 4,
 "nbformat_minor": 5
}
