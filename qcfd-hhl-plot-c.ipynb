{
 "cells": [
  {
   "cell_type": "code",
   "execution_count": null,
   "id": "1123d83f",
   "metadata": {},
   "outputs": [
    {
     "data": {
      "image/png": "[encoded data removed]",
      "text/plain": [
       "<Figure size 500x500 with 1 Axes>"
      ]
     },
     "metadata": {},
     "output_type": "display_data"
    }
   ],
   "source": [
    "import numpy as np\n",
    "import matplotlib.pyplot as plt\n",
    "\n",
    "N = 5\n",
    "G = N**2\n",
    "\n",
    "\"\"\"def c0(j):\n",
    "    if j < N:\n",
    "        return j + (G - N)\n",
    "    else:\n",
    "        return j - N\n",
    "def c1(j):\n",
    "    if j == 0:\n",
    "        return G - 1\n",
    "    else:\n",
    "        return j - 1\n",
    "def c2(j):\n",
    "    return j\n",
    "def c3(j):\n",
    "    if j == G - 1:\n",
    "        return 0\n",
    "    else:\n",
    "        return j + 1\n",
    "def c4(j):\n",
    "    if j >= G - N:\n",
    "        return j - (G - N)\n",
    "    else:\n",
    "        return j + N\"\"\"\n",
    "\n",
    "def c0(j):\n",
    "    return (j-N) % G\n",
    "def c1(j):\n",
    "    return (j-1) % G\n",
    "def c2(j):\n",
    "    return j\n",
    "def c3(j):\n",
    "    return (j+1) % G\n",
    "def c4(j):\n",
    "    return (j+N) % G\n",
    "\n",
    "# Domain of j\n",
    "j_vals = np.arange(G)\n",
    "\n",
    "# Plot each set of (i,j) with its own color\n",
    "plt.figure(figsize=(5,5))\n",
    "\n",
    "c0v = np.vectorize(c0)\n",
    "c1v = np.vectorize(c1)\n",
    "c2v = np.vectorize(c2)\n",
    "c3v = np.vectorize(c3)\n",
    "c4v = np.vectorize(c4)\n",
    "\n",
    "plt.scatter(j_vals, c0v(j_vals), color='red', label='$i=c(0,j)$', s=50, marker='s')\n",
    "plt.scatter(j_vals, c1v(j_vals), color='green', label='$i=c(1,j)$', s=50, marker='s')\n",
    "plt.scatter(j_vals, c2v(j_vals), color='blue', label='$i=c(2,j)$', s=50, marker='s')\n",
    "plt.scatter(j_vals, c3v(j_vals), color='orange', label='$i=c(3,j)$', s=50, marker='s')\n",
    "plt.scatter(j_vals, c4v(j_vals), color='teal', label='$i=c(4,j)$', s=50, marker='s')\n",
    "\n",
    "plt.gca().invert_yaxis()  # To mimic matrix plotting style\n",
    "plt.xlabel('j')\n",
    "plt.ylabel('i')\n",
    "plt.xlim(-1, G)         # x from 0 to G\n",
    "plt.ylim(-1, G)         # y from 0 to G\n",
    "plt.gca().invert_yaxis()  # top row = 0\n",
    "plt.legend(fontsize=8)\n",
    "plt.grid(False)\n",
    "plt.show()\n"
   ]
  }
 ],
 "metadata": {
  "kernelspec": {
   "display_name": "Python 3",
   "language": "python",
   "name": "python3"
  },
  "language_info": {
   "codemirror_mode": {
    "name": "ipython",
    "version": 3
   },
   "file_extension": ".py",
   "mimetype": "text/x-python",
   "name": "python",
   "nbconvert_exporter": "python",
   "pygments_lexer": "ipython3",
   "version": "3.13.7"
  }
 },
 "nbformat": 4,
 "nbformat_minor": 5
}
